{
 "metadata": {
  "language_info": {
   "codemirror_mode": {
    "name": "ipython",
    "version": 3
   },
   "file_extension": ".py",
   "mimetype": "text/x-python",
   "name": "python",
   "nbconvert_exporter": "python",
   "pygments_lexer": "ipython3",
   "version": "3.6.8-final"
  },
  "orig_nbformat": 2,
  "kernelspec": {
   "name": "Python 3.6.8 64-bit",
   "display_name": "Python 3.6.8 64-bit",
   "metadata": {
    "interpreter": {
     "hash": "ee47e5130ccc6840e99a61987d1d4c116c0df5a5f9dbbd697bd845d436976122"
    }
   }
  }
 },
 "nbformat": 4,
 "nbformat_minor": 2,
 "cells": [
  {
   "cell_type": "code",
   "execution_count": 72,
   "metadata": {},
   "outputs": [],
   "source": [
    "from keras import layers\n",
    "from keras.models import Model\n",
    "from keras.models import load_model\n",
    "from keras import callbacks\n",
    "import os\n",
    "import cv2\n",
    "import string\n",
    "import numpy as np\n",
    "from scipy import stats\n",
    "\n",
    "\n",
    "\n",
    "symbols = string.ascii_letters + \"0123456789\"\n",
    "num_symbols = len(symbols)\n",
    "img_shape =(50,200,1)"
   ]
  },
  {
   "cell_type": "code",
   "execution_count": 73,
   "metadata": {},
   "outputs": [],
   "source": [
    "def create_net():\n",
    "    img = layers.Input(shape=img_shape)\n",
    "    conv1 = layers.Conv2D(16,(3,3),padding='same', activation='relu')(img)\n",
    "    mp1 = layers.MaxPooling2D(padding='same')(conv1)\n",
    "    conv2 = layers.Conv2D(32,(3,3),padding='same',activation='relu')(mp1)\n",
    "    mp2 = layers.MaxPooling2D(padding='same')(conv2)\n",
    "    conv3 = layers.Conv2D(32,(3,3),padding='same',activation='relu')(mp2)\n",
    "    bn = layers.BatchNormalization()(conv3)\n",
    "    mp3 = layers.MaxPool2D(padding='same')(bn)\n",
    "\n",
    "    flat = layers.Flatten()(mp3)\n",
    "    outs=[]\n",
    "    for _ in range(5):\n",
    "        dens1 = layers.Dense(64,activation='relu')(flat)\n",
    "        drop = layers.Dropout(0.5)(dens1)\n",
    "        res = layers.Dense(num_symbols,activation='sigmoid')(drop)\n",
    "\n",
    "        outs.append(res)\n",
    "    model = Model(img,outs)\n",
    "    model.compile(optimizer='rmsprop', loss=['categorical_crossentropy','categorical_crossentropy','categorical_crossentropy','categorical_crossentropy','categorical_crossentropy'],metrics=['accuracy'])\n",
    "    return model\n",
    "        "
   ]
  },
  {
   "cell_type": "code",
   "execution_count": 74,
   "metadata": {},
   "outputs": [],
   "source": [
    "def signaltonoise(a, axis=None, ddof=0):\n",
    "    a = np.asanyarray(a)\n",
    "    m = a.mean(axis)\n",
    "    sd = a.std(axis=axis, ddof=ddof)\n",
    "    return np.where(sd == 0, 0, m/sd)"
   ]
  },
  {
   "cell_type": "code",
   "execution_count": 75,
   "metadata": {
    "tags": []
   },
   "outputs": [
    {
     "output_type": "stream",
     "name": "stdout",
     "text": [
      "[[[0.75294118]\n  [0.75294118]\n  [0.75294118]\n  ...\n  [0.98431373]\n  [0.98431373]\n  [0.98431373]]\n\n [[0.75294118]\n  [0.75294118]\n  [0.75294118]\n  ...\n  [0.98431373]\n  [0.98431373]\n  [0.98431373]]\n\n [[0.75294118]\n  [0.75294118]\n  [0.75294118]\n  ...\n  [0.98431373]\n  [0.98431373]\n  [0.98431373]]\n\n ...\n\n [[0.76470588]\n  [0.76470588]\n  [0.76470588]\n  ...\n  [0.99607843]\n  [0.99607843]\n  [0.99607843]]\n\n [[0.76470588]\n  [0.76470588]\n  [0.76470588]\n  ...\n  [0.99607843]\n  [0.99607843]\n  [0.99607843]]\n\n [[0.76470588]\n  [0.76470588]\n  [0.76470588]\n  ...\n  [0.99607843]\n  [0.99607843]\n  [0.99607843]]]\n[2.34598957]\n"
     ]
    }
   ],
   "source": [
    "def preprocess_data():\n",
    "    n_samples = len(os.listdir(r'C:\\Users\\sunda\\OneDrive\\Documents\\Jupyter\\samples'))\n",
    "    x = np.zeros((n_samples,50,200,1))\n",
    "    y = np.zeros((5,n_samples,num_symbols))\n",
    "    z= np.zeros((n_samples,1))\n",
    "    for i, pic in enumerate(os.listdir(r'C:\\Users\\sunda\\OneDrive\\Documents\\Jupyter\\samples')):\n",
    "        img = cv2.imread(os.path.join(r'C:\\Users\\sunda\\OneDrive\\Documents\\Jupyter\\samples',pic),cv2.IMREAD_GRAYSCALE)\n",
    "        pic_target = pic[:-4]\n",
    "        snr = signaltonoise(img,axis=None)\n",
    "        if len(pic_target)<6:\n",
    "            img = img/255.0\n",
    "            img = np.reshape(img,(50,200,1))\n",
    "\n",
    "            targs = np.zeros((5,num_symbols))\n",
    "            for j,l in enumerate(pic_target):\n",
    "                ind = symbols.find(l)\n",
    "                targs[j,ind]=1\n",
    "            x[i] = img\n",
    "            y[:,i] = targs\n",
    "            z[i]= snr\n",
    "    return x,y,z\n",
    "x,y,z = preprocess_data()\n",
    "print(x[971])\n",
    "print(z[971])\n",
    "x_train,y_train = x[:970],y[:,:970]\n",
    "x_test,y_test = x[970:],y[:,970:]\n"
   ]
  },
  {
   "cell_type": "code",
   "execution_count": 76,
   "metadata": {
    "tags": []
   },
   "outputs": [
    {
     "output_type": "stream",
     "name": "stdout",
     "text": [
      "Epoch 1/25\n",
      "13/13 [==============================] - 4s 286ms/step - loss: 19.5596 - dense_101_loss: 3.9362 - dense_103_loss: 3.8796 - dense_105_loss: 3.8606 - dense_107_loss: 4.0024 - dense_109_loss: 3.8808 - dense_101_accuracy: 0.0361 - dense_103_accuracy: 0.0606 - dense_105_accuracy: 0.0451 - dense_107_accuracy: 0.0232 - dense_109_accuracy: 0.0309 - val_loss: 19.9264 - val_dense_101_loss: 4.1205 - val_dense_103_loss: 3.9324 - val_dense_105_loss: 3.9506 - val_dense_107_loss: 3.9822 - val_dense_109_loss: 3.9406 - val_dense_101_accuracy: 0.0000e+00 - val_dense_103_accuracy: 0.0258 - val_dense_105_accuracy: 0.0515 - val_dense_107_accuracy: 0.0515 - val_dense_109_accuracy: 0.0258\n",
      "Epoch 2/25\n",
      "13/13 [==============================] - 3s 243ms/step - loss: 17.5539 - dense_101_loss: 3.4489 - dense_103_loss: 3.4293 - dense_105_loss: 3.5114 - dense_107_loss: 3.6124 - dense_109_loss: 3.5519 - dense_101_accuracy: 0.0760 - dense_103_accuracy: 0.0593 - dense_105_accuracy: 0.0657 - dense_107_accuracy: 0.0593 - dense_109_accuracy: 0.0541 - val_loss: 20.1497 - val_dense_101_loss: 4.1227 - val_dense_103_loss: 3.9922 - val_dense_105_loss: 3.9969 - val_dense_107_loss: 4.0223 - val_dense_109_loss: 4.0155 - val_dense_101_accuracy: 0.0000e+00 - val_dense_103_accuracy: 0.0567 - val_dense_105_accuracy: 0.0825 - val_dense_107_accuracy: 0.0567 - val_dense_109_accuracy: 0.0515\n",
      "Epoch 3/25\n",
      "13/13 [==============================] - 3s 244ms/step - loss: 16.3052 - dense_101_loss: 3.0967 - dense_103_loss: 3.1791 - dense_105_loss: 3.3294 - dense_107_loss: 3.3759 - dense_109_loss: 3.3241 - dense_101_accuracy: 0.1121 - dense_103_accuracy: 0.0722 - dense_105_accuracy: 0.0735 - dense_107_accuracy: 0.0503 - dense_109_accuracy: 0.0670 - val_loss: 19.8485 - val_dense_101_loss: 4.1552 - val_dense_103_loss: 3.8853 - val_dense_105_loss: 3.9384 - val_dense_107_loss: 3.9350 - val_dense_109_loss: 3.9347 - val_dense_101_accuracy: 0.0000e+00 - val_dense_103_accuracy: 0.1031 - val_dense_105_accuracy: 0.1134 - val_dense_107_accuracy: 0.0515 - val_dense_109_accuracy: 0.0928\n",
      "Epoch 4/25\n",
      "13/13 [==============================] - 3s 257ms/step - loss: 15.3540 - dense_101_loss: 2.8059 - dense_103_loss: 3.0410 - dense_105_loss: 3.1250 - dense_107_loss: 3.2026 - dense_109_loss: 3.1795 - dense_101_accuracy: 0.1469 - dense_103_accuracy: 0.1160 - dense_105_accuracy: 0.1044 - dense_107_accuracy: 0.0644 - dense_109_accuracy: 0.0657 - val_loss: 20.1697 - val_dense_101_loss: 4.1310 - val_dense_103_loss: 4.0115 - val_dense_105_loss: 4.0230 - val_dense_107_loss: 4.0090 - val_dense_109_loss: 3.9952 - val_dense_101_accuracy: 0.0000e+00 - val_dense_103_accuracy: 0.1856 - val_dense_105_accuracy: 0.1082 - val_dense_107_accuracy: 0.0928 - val_dense_109_accuracy: 0.1392\n",
      "Epoch 5/25\n",
      "13/13 [==============================] - 3s 256ms/step - loss: 14.5362 - dense_101_loss: 2.5931 - dense_103_loss: 2.8686 - dense_105_loss: 2.9576 - dense_107_loss: 3.0669 - dense_109_loss: 3.0500 - dense_101_accuracy: 0.2371 - dense_103_accuracy: 0.1611 - dense_105_accuracy: 0.1070 - dense_107_accuracy: 0.0902 - dense_109_accuracy: 0.0747 - val_loss: 19.7567 - val_dense_101_loss: 4.0976 - val_dense_103_loss: 3.9042 - val_dense_105_loss: 3.9365 - val_dense_107_loss: 3.9106 - val_dense_109_loss: 3.9077 - val_dense_101_accuracy: 0.0000e+00 - val_dense_103_accuracy: 0.1443 - val_dense_105_accuracy: 0.1701 - val_dense_107_accuracy: 0.1753 - val_dense_109_accuracy: 0.1392\n",
      "Epoch 6/25\n",
      "13/13 [==============================] - 3s 261ms/step - loss: 13.8421 - dense_101_loss: 2.3762 - dense_103_loss: 2.7333 - dense_105_loss: 2.8436 - dense_107_loss: 2.9203 - dense_109_loss: 2.9688 - dense_101_accuracy: 0.2577 - dense_103_accuracy: 0.1598 - dense_105_accuracy: 0.1546 - dense_107_accuracy: 0.1263 - dense_109_accuracy: 0.0889 - val_loss: 20.2590 - val_dense_101_loss: 4.1169 - val_dense_103_loss: 4.0188 - val_dense_105_loss: 4.0360 - val_dense_107_loss: 4.0405 - val_dense_109_loss: 4.0468 - val_dense_101_accuracy: 0.0000e+00 - val_dense_103_accuracy: 0.1443 - val_dense_105_accuracy: 0.1649 - val_dense_107_accuracy: 0.1031 - val_dense_109_accuracy: 0.0670\n",
      "Epoch 7/25\n",
      "13/13 [==============================] - 3s 261ms/step - loss: 13.1307 - dense_101_loss: 2.1469 - dense_103_loss: 2.5286 - dense_105_loss: 2.6869 - dense_107_loss: 2.9043 - dense_109_loss: 2.8640 - dense_101_accuracy: 0.3930 - dense_103_accuracy: 0.2320 - dense_105_accuracy: 0.2062 - dense_107_accuracy: 0.1469 - dense_109_accuracy: 0.1095 - val_loss: 20.0680 - val_dense_101_loss: 4.0780 - val_dense_103_loss: 3.9876 - val_dense_105_loss: 3.9808 - val_dense_107_loss: 4.0060 - val_dense_109_loss: 4.0156 - val_dense_101_accuracy: 0.0000e+00 - val_dense_103_accuracy: 0.1701 - val_dense_105_accuracy: 0.1959 - val_dense_107_accuracy: 0.1289 - val_dense_109_accuracy: 0.0722\n",
      "Epoch 8/25\n",
      "13/13 [==============================] - 3s 252ms/step - loss: 12.0802 - dense_101_loss: 1.7827 - dense_103_loss: 2.3145 - dense_105_loss: 2.5288 - dense_107_loss: 2.7132 - dense_109_loss: 2.7409 - dense_101_accuracy: 0.4781 - dense_103_accuracy: 0.2899 - dense_105_accuracy: 0.2784 - dense_107_accuracy: 0.1985 - dense_109_accuracy: 0.1095 - val_loss: 19.9338 - val_dense_101_loss: 4.0534 - val_dense_103_loss: 3.9423 - val_dense_105_loss: 3.9439 - val_dense_107_loss: 4.0053 - val_dense_109_loss: 3.9890 - val_dense_101_accuracy: 0.0103 - val_dense_103_accuracy: 0.2423 - val_dense_105_accuracy: 0.2526 - val_dense_107_accuracy: 0.1443 - val_dense_109_accuracy: 0.1495\n",
      "Epoch 9/25\n",
      "13/13 [==============================] - 3s 256ms/step - loss: 11.1373 - dense_101_loss: 1.5086 - dense_103_loss: 2.0680 - dense_105_loss: 2.3539 - dense_107_loss: 2.5457 - dense_109_loss: 2.6611 - dense_101_accuracy: 0.5928 - dense_103_accuracy: 0.4046 - dense_105_accuracy: 0.3119 - dense_107_accuracy: 0.2010 - dense_109_accuracy: 0.1314 - val_loss: 19.2145 - val_dense_101_loss: 3.9147 - val_dense_103_loss: 3.7963 - val_dense_105_loss: 3.8308 - val_dense_107_loss: 3.8657 - val_dense_109_loss: 3.8070 - val_dense_101_accuracy: 0.3402 - val_dense_103_accuracy: 0.2835 - val_dense_105_accuracy: 0.3196 - val_dense_107_accuracy: 0.2216 - val_dense_109_accuracy: 0.1392\n",
      "Epoch 10/25\n",
      "13/13 [==============================] - 3s 258ms/step - loss: 10.1201 - dense_101_loss: 1.3152 - dense_103_loss: 1.8283 - dense_105_loss: 2.1109 - dense_107_loss: 2.3692 - dense_109_loss: 2.4966 - dense_101_accuracy: 0.6392 - dense_103_accuracy: 0.5000 - dense_105_accuracy: 0.3956 - dense_107_accuracy: 0.3028 - dense_109_accuracy: 0.1392 - val_loss: 19.1474 - val_dense_101_loss: 3.9388 - val_dense_103_loss: 3.7721 - val_dense_105_loss: 3.7846 - val_dense_107_loss: 3.8511 - val_dense_109_loss: 3.8009 - val_dense_101_accuracy: 0.2010 - val_dense_103_accuracy: 0.3969 - val_dense_105_accuracy: 0.3866 - val_dense_107_accuracy: 0.1959 - val_dense_109_accuracy: 0.1392\n",
      "Epoch 11/25\n",
      "13/13 [==============================] - 3s 264ms/step - loss: 9.0199 - dense_101_loss: 0.9569 - dense_103_loss: 1.5834 - dense_105_loss: 1.8977 - dense_107_loss: 2.2482 - dense_109_loss: 2.3338 - dense_101_accuracy: 0.7642 - dense_103_accuracy: 0.5683 - dense_105_accuracy: 0.4588 - dense_107_accuracy: 0.3570 - dense_109_accuracy: 0.1585 - val_loss: 19.2127 - val_dense_101_loss: 3.9986 - val_dense_103_loss: 3.7592 - val_dense_105_loss: 3.8028 - val_dense_107_loss: 3.8412 - val_dense_109_loss: 3.8110 - val_dense_101_accuracy: 0.0309 - val_dense_103_accuracy: 0.5206 - val_dense_105_accuracy: 0.3454 - val_dense_107_accuracy: 0.2268 - val_dense_109_accuracy: 0.1598\n",
      "Epoch 12/25\n",
      "13/13 [==============================] - 3s 264ms/step - loss: 7.9600 - dense_101_loss: 0.8079 - dense_103_loss: 1.3810 - dense_105_loss: 1.6538 - dense_107_loss: 1.9834 - dense_109_loss: 2.1339 - dense_101_accuracy: 0.8015 - dense_103_accuracy: 0.6327 - dense_105_accuracy: 0.5284 - dense_107_accuracy: 0.4265 - dense_109_accuracy: 0.1649 - val_loss: 18.5804 - val_dense_101_loss: 3.9773 - val_dense_103_loss: 3.6363 - val_dense_105_loss: 3.6421 - val_dense_107_loss: 3.7070 - val_dense_109_loss: 3.6177 - val_dense_101_accuracy: 0.0515 - val_dense_103_accuracy: 0.6959 - val_dense_105_accuracy: 0.5206 - val_dense_107_accuracy: 0.3093 - val_dense_109_accuracy: 0.1443\n",
      "Epoch 13/25\n",
      "13/13 [==============================] - 3s 266ms/step - loss: 7.1446 - dense_101_loss: 0.7168 - dense_103_loss: 1.1061 - dense_105_loss: 1.4981 - dense_107_loss: 1.8555 - dense_109_loss: 1.9681 - dense_101_accuracy: 0.8183 - dense_103_accuracy: 0.6920 - dense_105_accuracy: 0.5709 - dense_107_accuracy: 0.4845 - dense_109_accuracy: 0.2049 - val_loss: 17.9642 - val_dense_101_loss: 3.9402 - val_dense_103_loss: 3.4805 - val_dense_105_loss: 3.4989 - val_dense_107_loss: 3.5754 - val_dense_109_loss: 3.4691 - val_dense_101_accuracy: 0.0722 - val_dense_103_accuracy: 0.7629 - val_dense_105_accuracy: 0.5361 - val_dense_107_accuracy: 0.4175 - val_dense_109_accuracy: 0.1392\n",
      "Epoch 14/25\n",
      "13/13 [==============================] - 3s 258ms/step - loss: 6.1578 - dense_101_loss: 0.5475 - dense_103_loss: 0.9821 - dense_105_loss: 1.2078 - dense_107_loss: 1.6067 - dense_109_loss: 1.8137 - dense_101_accuracy: 0.8621 - dense_103_accuracy: 0.7423 - dense_105_accuracy: 0.6546 - dense_107_accuracy: 0.5696 - dense_109_accuracy: 0.2461 - val_loss: 17.7988 - val_dense_101_loss: 3.9991 - val_dense_103_loss: 3.4005 - val_dense_105_loss: 3.4104 - val_dense_107_loss: 3.5691 - val_dense_109_loss: 3.4197 - val_dense_101_accuracy: 0.0876 - val_dense_103_accuracy: 0.7732 - val_dense_105_accuracy: 0.5825 - val_dense_107_accuracy: 0.4124 - val_dense_109_accuracy: 0.1443\n",
      "Epoch 15/25\n",
      "13/13 [==============================] - 5s 353ms/step - loss: 5.3971 - dense_101_loss: 0.4002 - dense_103_loss: 0.7644 - dense_105_loss: 1.0796 - dense_107_loss: 1.5052 - dense_109_loss: 1.6477 - dense_101_accuracy: 0.8905 - dense_103_accuracy: 0.7874 - dense_105_accuracy: 0.7023 - dense_107_accuracy: 0.5838 - dense_109_accuracy: 0.3196 - val_loss: 17.7296 - val_dense_101_loss: 3.9556 - val_dense_103_loss: 3.3641 - val_dense_105_loss: 3.4293 - val_dense_107_loss: 3.5408 - val_dense_109_loss: 3.4398 - val_dense_101_accuracy: 0.1134 - val_dense_103_accuracy: 0.7010 - val_dense_105_accuracy: 0.5773 - val_dense_107_accuracy: 0.4330 - val_dense_109_accuracy: 0.1598\n",
      "Epoch 16/25\n",
      "13/13 [==============================] - 4s 346ms/step - loss: 4.7777 - dense_101_loss: 0.3807 - dense_103_loss: 0.6833 - dense_105_loss: 0.9049 - dense_107_loss: 1.2963 - dense_109_loss: 1.5125 - dense_101_accuracy: 0.9137 - dense_103_accuracy: 0.8080 - dense_105_accuracy: 0.7474 - dense_107_accuracy: 0.6263 - dense_109_accuracy: 0.4265 - val_loss: 18.9375 - val_dense_101_loss: 3.9794 - val_dense_103_loss: 3.7084 - val_dense_105_loss: 3.7380 - val_dense_107_loss: 3.7897 - val_dense_109_loss: 3.7220 - val_dense_101_accuracy: 0.1856 - val_dense_103_accuracy: 0.5773 - val_dense_105_accuracy: 0.3711 - val_dense_107_accuracy: 0.4227 - val_dense_109_accuracy: 0.2887\n",
      "Epoch 17/25\n",
      "13/13 [==============================] - 5s 356ms/step - loss: 4.1043 - dense_101_loss: 0.2958 - dense_103_loss: 0.5363 - dense_105_loss: 0.7958 - dense_107_loss: 1.1516 - dense_109_loss: 1.3248 - dense_101_accuracy: 0.9253 - dense_103_accuracy: 0.8531 - dense_105_accuracy: 0.7745 - dense_107_accuracy: 0.6740 - dense_109_accuracy: 0.5606 - val_loss: 17.0656 - val_dense_101_loss: 3.9457 - val_dense_103_loss: 3.2662 - val_dense_105_loss: 3.2717 - val_dense_107_loss: 3.3812 - val_dense_109_loss: 3.2009 - val_dense_101_accuracy: 0.1134 - val_dense_103_accuracy: 0.7320 - val_dense_105_accuracy: 0.5670 - val_dense_107_accuracy: 0.3711 - val_dense_109_accuracy: 0.3505\n",
      "Epoch 18/25\n",
      "13/13 [==============================] - 5s 363ms/step - loss: 3.6189 - dense_101_loss: 0.2594 - dense_103_loss: 0.4927 - dense_105_loss: 0.6780 - dense_107_loss: 1.0233 - dense_109_loss: 1.1654 - dense_101_accuracy: 0.9343 - dense_103_accuracy: 0.8776 - dense_105_accuracy: 0.7951 - dense_107_accuracy: 0.6946 - dense_109_accuracy: 0.6534 - val_loss: 15.6421 - val_dense_101_loss: 3.9342 - val_dense_103_loss: 2.8665 - val_dense_105_loss: 2.8681 - val_dense_107_loss: 3.0782 - val_dense_109_loss: 2.8951 - val_dense_101_accuracy: 0.0722 - val_dense_103_accuracy: 0.8402 - val_dense_105_accuracy: 0.5876 - val_dense_107_accuracy: 0.4794 - val_dense_109_accuracy: 0.4845\n",
      "Epoch 19/25\n",
      "13/13 [==============================] - 4s 322ms/step - loss: 3.0779 - dense_101_loss: 0.2736 - dense_103_loss: 0.4457 - dense_105_loss: 0.5272 - dense_107_loss: 0.8462 - dense_109_loss: 0.9851 - dense_101_accuracy: 0.9188 - dense_103_accuracy: 0.8737 - dense_105_accuracy: 0.8492 - dense_107_accuracy: 0.7423 - dense_109_accuracy: 0.7255 - val_loss: 15.0515 - val_dense_101_loss: 3.9194 - val_dense_103_loss: 2.7225 - val_dense_105_loss: 2.7540 - val_dense_107_loss: 2.9224 - val_dense_109_loss: 2.7332 - val_dense_101_accuracy: 0.0928 - val_dense_103_accuracy: 0.8454 - val_dense_105_accuracy: 0.7216 - val_dense_107_accuracy: 0.5773 - val_dense_109_accuracy: 0.5928\n",
      "Epoch 20/25\n",
      "13/13 [==============================] - 4s 341ms/step - loss: 2.7018 - dense_101_loss: 0.1996 - dense_103_loss: 0.3586 - dense_105_loss: 0.5468 - dense_107_loss: 0.7448 - dense_109_loss: 0.8521 - dense_101_accuracy: 0.9536 - dense_103_accuracy: 0.9098 - dense_105_accuracy: 0.8338 - dense_107_accuracy: 0.7809 - dense_109_accuracy: 0.7616 - val_loss: 13.4210 - val_dense_101_loss: 3.8723 - val_dense_103_loss: 2.2097 - val_dense_105_loss: 2.3317 - val_dense_107_loss: 2.6881 - val_dense_109_loss: 2.3192 - val_dense_101_accuracy: 0.0515 - val_dense_103_accuracy: 0.7474 - val_dense_105_accuracy: 0.6856 - val_dense_107_accuracy: 0.5258 - val_dense_109_accuracy: 0.5464\n",
      "Epoch 21/25\n",
      "13/13 [==============================] - 5s 361ms/step - loss: 2.4034 - dense_101_loss: 0.1692 - dense_103_loss: 0.3092 - dense_105_loss: 0.4692 - dense_107_loss: 0.7250 - dense_109_loss: 0.7308 - dense_101_accuracy: 0.9549 - dense_103_accuracy: 0.9175 - dense_105_accuracy: 0.8673 - dense_107_accuracy: 0.7964 - dense_109_accuracy: 0.8067 - val_loss: 12.2444 - val_dense_101_loss: 3.9015 - val_dense_103_loss: 1.9547 - val_dense_105_loss: 2.0505 - val_dense_107_loss: 2.3251 - val_dense_109_loss: 2.0126 - val_dense_101_accuracy: 0.0309 - val_dense_103_accuracy: 0.8660 - val_dense_105_accuracy: 0.7474 - val_dense_107_accuracy: 0.6649 - val_dense_109_accuracy: 0.6495\n",
      "Epoch 22/25\n",
      "13/13 [==============================] - 5s 370ms/step - loss: 2.0934 - dense_101_loss: 0.1854 - dense_103_loss: 0.2630 - dense_105_loss: 0.3754 - dense_107_loss: 0.6407 - dense_109_loss: 0.6288 - dense_101_accuracy: 0.9575 - dense_103_accuracy: 0.9330 - dense_105_accuracy: 0.9072 - dense_107_accuracy: 0.8235 - dense_109_accuracy: 0.8235 - val_loss: 11.9246 - val_dense_101_loss: 3.9191 - val_dense_103_loss: 1.8767 - val_dense_105_loss: 1.9340 - val_dense_107_loss: 2.2343 - val_dense_109_loss: 1.9607 - val_dense_101_accuracy: 0.0361 - val_dense_103_accuracy: 0.8711 - val_dense_105_accuracy: 0.7474 - val_dense_107_accuracy: 0.6031 - val_dense_109_accuracy: 0.6340\n",
      "Epoch 23/25\n",
      "13/13 [==============================] - 5s 353ms/step - loss: 1.8282 - dense_101_loss: 0.1370 - dense_103_loss: 0.2814 - dense_105_loss: 0.3525 - dense_107_loss: 0.5262 - dense_109_loss: 0.5311 - dense_101_accuracy: 0.9639 - dense_103_accuracy: 0.9291 - dense_105_accuracy: 0.8879 - dense_107_accuracy: 0.8351 - dense_109_accuracy: 0.8338 - val_loss: 11.4735 - val_dense_101_loss: 4.0087 - val_dense_103_loss: 1.7339 - val_dense_105_loss: 1.7304 - val_dense_107_loss: 2.1262 - val_dense_109_loss: 1.8743 - val_dense_101_accuracy: 0.0567 - val_dense_103_accuracy: 0.8814 - val_dense_105_accuracy: 0.7835 - val_dense_107_accuracy: 0.6495 - val_dense_109_accuracy: 0.7268\n",
      "Epoch 24/25\n",
      "13/13 [==============================] - 5s 373ms/step - loss: 1.5752 - dense_101_loss: 0.1409 - dense_103_loss: 0.2037 - dense_105_loss: 0.2718 - dense_107_loss: 0.4973 - dense_109_loss: 0.4615 - dense_101_accuracy: 0.9652 - dense_103_accuracy: 0.9459 - dense_105_accuracy: 0.9021 - dense_107_accuracy: 0.8582 - dense_109_accuracy: 0.8711 - val_loss: 11.6499 - val_dense_101_loss: 4.0995 - val_dense_103_loss: 1.7547 - val_dense_105_loss: 1.7840 - val_dense_107_loss: 2.1034 - val_dense_109_loss: 1.9082 - val_dense_101_accuracy: 0.1546 - val_dense_103_accuracy: 0.8660 - val_dense_105_accuracy: 0.7784 - val_dense_107_accuracy: 0.6134 - val_dense_109_accuracy: 0.7010\n",
      "Epoch 25/25\n",
      "13/13 [==============================] - 5s 372ms/step - loss: 1.4583 - dense_101_loss: 0.1259 - dense_103_loss: 0.1707 - dense_105_loss: 0.3149 - dense_107_loss: 0.4299 - dense_109_loss: 0.4169 - dense_101_accuracy: 0.9742 - dense_103_accuracy: 0.9485 - dense_105_accuracy: 0.9111 - dense_107_accuracy: 0.8724 - dense_109_accuracy: 0.8750 - val_loss: 11.4920 - val_dense_101_loss: 4.0345 - val_dense_103_loss: 1.6980 - val_dense_105_loss: 1.8944 - val_dense_107_loss: 2.0628 - val_dense_109_loss: 1.8024 - val_dense_101_accuracy: 0.1134 - val_dense_103_accuracy: 0.8660 - val_dense_105_accuracy: 0.7371 - val_dense_107_accuracy: 0.6701 - val_dense_109_accuracy: 0.7268\n"
     ]
    }
   ],
   "source": [
    "net = create_net()\n",
    "history = net.fit(x_train,[y_train[0],y_train[1],y_train[2],y_train[3],y_train[4]],batch_size=64,epochs=25,validation_split=0.2)"
   ]
  },
  {
   "cell_type": "code",
   "execution_count": 77,
   "metadata": {},
   "outputs": [],
   "source": [
    "def predict(filepath):\n",
    "    img = cv2.imread(filepath,cv2.IMREAD_GRAYSCALE)/255.0\n",
    "    res = np.array(net.predict(img[np.newaxis,:,:,np.newaxis]))\n",
    "    ans = np.reshape(res,(5,62))\n",
    "    l_ind=[]\n",
    "    for a in ans:\n",
    "        l_ind.append(np.argmax(a))\n",
    "    capt=''\n",
    "    for l in l_ind:\n",
    "        capt+=symbols[l]\n",
    "    return capt"
   ]
  },
  {
   "cell_type": "code",
   "execution_count": 78,
   "metadata": {},
   "outputs": [
    {
     "output_type": "error",
     "ename": "KeyError",
     "evalue": "'dense_91_categorical_accuracy'",
     "traceback": [
      "\u001b[1;31m---------------------------------------------------------------------------\u001b[0m",
      "\u001b[1;31mKeyError\u001b[0m                                  Traceback (most recent call last)",
      "\u001b[1;32m<ipython-input-78-251737204fcd>\u001b[0m in \u001b[0;36m<module>\u001b[1;34m\u001b[0m\n\u001b[0;32m      7\u001b[0m \u001b[0mplt\u001b[0m\u001b[1;33m.\u001b[0m\u001b[0msubplot\u001b[0m\u001b[1;33m(\u001b[0m\u001b[1;36m212\u001b[0m\u001b[1;33m)\u001b[0m\u001b[1;33m\u001b[0m\u001b[1;33m\u001b[0m\u001b[0m\n\u001b[0;32m      8\u001b[0m \u001b[0mplt\u001b[0m\u001b[1;33m.\u001b[0m\u001b[0mtitle\u001b[0m\u001b[1;33m(\u001b[0m\u001b[1;34m'Accuracy'\u001b[0m\u001b[1;33m)\u001b[0m\u001b[1;33m\u001b[0m\u001b[1;33m\u001b[0m\u001b[0m\n\u001b[1;32m----> 9\u001b[1;33m \u001b[0mplt\u001b[0m\u001b[1;33m.\u001b[0m\u001b[0mplot\u001b[0m\u001b[1;33m(\u001b[0m\u001b[0mhistory\u001b[0m\u001b[1;33m.\u001b[0m\u001b[0mhistory\u001b[0m\u001b[1;33m[\u001b[0m\u001b[1;34m'dense_91_categorical_accuracy'\u001b[0m\u001b[1;33m]\u001b[0m\u001b[1;33m,\u001b[0m\u001b[0mlabel\u001b[0m\u001b[1;33m=\u001b[0m\u001b[1;34m'train'\u001b[0m\u001b[1;33m)\u001b[0m\u001b[1;33m\u001b[0m\u001b[1;33m\u001b[0m\u001b[0m\n\u001b[0m\u001b[0;32m     10\u001b[0m \u001b[0mplt\u001b[0m\u001b[1;33m.\u001b[0m\u001b[0mplot\u001b[0m\u001b[1;33m(\u001b[0m\u001b[0mhistory\u001b[0m\u001b[1;33m.\u001b[0m\u001b[0mhistory\u001b[0m\u001b[1;33m[\u001b[0m\u001b[1;34m'val_dense_91_categorical_accuracy'\u001b[0m\u001b[1;33m]\u001b[0m\u001b[1;33m,\u001b[0m\u001b[0mlabel\u001b[0m\u001b[1;33m=\u001b[0m\u001b[1;34m'test'\u001b[0m\u001b[1;33m)\u001b[0m\u001b[1;33m\u001b[0m\u001b[1;33m\u001b[0m\u001b[0m\n\u001b[0;32m     11\u001b[0m \u001b[0mplt\u001b[0m\u001b[1;33m.\u001b[0m\u001b[0mlegend\u001b[0m\u001b[1;33m(\u001b[0m\u001b[1;33m)\u001b[0m\u001b[1;33m\u001b[0m\u001b[1;33m\u001b[0m\u001b[0m\n",
      "\u001b[1;31mKeyError\u001b[0m: 'dense_91_categorical_accuracy'"
     ]
    }
   ],
   "source": [
    "import matplotlib.pyplot as plt\n",
    "plt.subplot(211)\n",
    "plt.title('Loss')\n",
    "plt.plot(history.history['loss'],label='train')\n",
    "plt.plot(history.history['val_loss'],label='test')\n",
    "plt.legend()\n",
    "plt.subplot(212)\n",
    "plt.title('Accuracy')\n",
    "plt.plot(history.history['dense_91_categorical_accuracy'],label='train')\n",
    "plt.plot(history.history['val_dense_91_categorical_accuracy'],label='test')\n",
    "plt.legend()\n",
    "history_dict = history.history\n",
    "print(history_dict.keys())"
   ]
  },
  {
   "cell_type": "code",
   "execution_count": 51,
   "metadata": {
    "tags": []
   },
   "outputs": [
    {
     "output_type": "stream",
     "name": "stdout",
     "text": [
      "4/4 [==============================] - 0s 20ms/step - loss: 10.4769 - dense_61_loss: 5.5292 - dense_63_loss: 1.0044 - dense_65_loss: 1.3037 - dense_67_loss: 1.4679 - dense_69_loss: 1.1716 - dense_61_categorical_accuracy: 0.0000e+00 - dense_63_categorical_accuracy: 0.9200 - dense_65_categorical_accuracy: 0.7900 - dense_67_categorical_accuracy: 0.7000 - dense_69_categorical_accuracy: 0.7300\n",
      "5mcy7\n",
      "56m6y\n"
     ]
    }
   ],
   "source": [
    "net.evaluate(x_test,[y_test[0],y_test[1],y_test[2],y_test[3],y_test[4]])\n",
    "\n",
    "print(predict(r'C:\\Users\\sunda\\OneDrive\\Documents\\Jupyter\\samples\\5mcy7.png'))\n",
    "#print(predict(r'C:\\Users\\sunda\\OneDrive\\Documents\\Jupyter\\sampl`es\\5np4m.png'))\n",
    "print(predict(r'C:\\Users\\sunda\\OneDrive\\Documents\\Jupyter\\samples\\56m6y.png'))"
   ]
  },
  {
   "cell_type": "code",
   "execution_count": null,
   "metadata": {},
   "outputs": [],
   "source": [
    "#from sklearn.naive_bayes import MultinomialNB\n",
    "#modelmnb = MultinomialNB()\n",
    "#modelmnb()"
   ]
  }
 ]
}